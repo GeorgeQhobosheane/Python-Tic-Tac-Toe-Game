{
 "cells": [
  {
   "cell_type": "code",
   "execution_count": 1,
   "metadata": {},
   "outputs": [],
   "source": [
    "\n",
    "#Tic tac toe game\n",
    "\n",
    "\n",
    "def Start_Game():\n",
    "    print(\"Starting\")\n",
    "    start = True\n",
    "    while start:\n",
    "        GameBoard = [' ',' ',' ',' ',' ',' ',' ',' ',' ',]\n",
    "        Player = 1\n",
    "        print(\"Player\", Player,\"Do you want to X or 0?\")\n",
    "        Play = input()\n",
    "        FirstPlayer, SecondPlayer = define_play(Play)\n",
    "        \n",
    "        while True:\n",
    "            if Player > 2:\n",
    "                Player = 1\n",
    "            print(\"Player\", Player, \"Enter your position:\")\n",
    "            Position = int(input())\n",
    "            \n",
    "            if position_check(Position, GameBoard):\n",
    "                continue\n",
    "                \n",
    "            if Player == 1:\n",
    "                place_position(GameBoard, FirstPlayer, Position)\n",
    "            else:\n",
    "                place_position(GameBoard, SecondPlayer, Position)\n",
    "                \n",
    "            show_board(GameBoard)\n",
    "            \n",
    "            if Player ==1:\n",
    "                if who_won(GameBoard, FirstPlayer):\n",
    "                    print(\"The winner of the game is Player:\", Player)\n",
    "                    break\n",
    "            else: \n",
    "                if who_won(GameBoard, SecondPlayer):\n",
    "                    print(\"The winner of the game is Player:\", Player)\n",
    "                    break\n",
    "            \n",
    "            if check_space(GameBoard):\n",
    "                print(\" Its a Tie\")\n",
    "                break\n",
    "            Player +=1\n",
    "            \n",
    "        if restart():\n",
    "            start = True\n",
    "                \n",
    "            \n",
    "                \n",
    "                \n",
    "            \n",
    "        \n",
    "    \n",
    "        \n",
    "        \n"
   ]
  },
  {
   "cell_type": "code",
   "execution_count": 2,
   "metadata": {},
   "outputs": [],
   "source": [
    "def define_play(Play):\n",
    "    if Play == \"X\":\n",
    "        return (\"X\", \"0\")\n",
    "    else:\n",
    "        return (\"0\", \"X\")\n",
    "    \n",
    "def position_check(Position, GameBoard):\n",
    "    if GameBoard[Position] == \" \":\n",
    "        return False\n",
    "    else:\n",
    "        return True\n",
    "    \n",
    "def place_position(GameBoard, Play, Position):\n",
    "    GameBoard[Position] = Play\n",
    "    \n",
    "def show_board(GameBoard):\n",
    "    print(f'{GameBoard[0]} | {GameBoard[1]} | {GameBoard[2]}')\n",
    "    print(\"-----------\")\n",
    "    print(f'{GameBoard[3]} | {GameBoard[4]} | {GameBoard[5]}')\n",
    "    print(\"-----------\")\n",
    "    print(f'{GameBoard[6]} | {GameBoard[7]} | {GameBoard[8]}')\n",
    "          \n",
    "def who_won(GameBoard, Play):\n",
    "    return GameBoard[0]==Play and GameBoard[3]==Play and GameBoard[6]==Play or GameBoard[1]==Play and GameBoard[4]==Play and GameBoard[7]==Play or GameBoard[2]==Play and GameBoard[5]==Play and GameBoard[8]==Play or GameBoard[0]==Play and GameBoard[1]==Play and GameBoard[2]==Play or GameBoard[3]==Play and GameBoard[4]==Play and GameBoard[5]==Play or GameBoard[6]==Play and GameBoard[7]==Play and GameBoard[8]==Play or GameBoard[0]==Play and GameBoard[4]==Play and GameBoard[8]==Play or GameBoard[6]==Play and GameBoard[4]==Play and GameBoard[2]==Play\n",
    "\n",
    "          \n",
    "def check_space(GameBoard):\n",
    "    if \" \" in GameBoard:\n",
    "          return False \n",
    "    else:\n",
    "          return True\n",
    "          \n",
    "def restart():\n",
    "    print(\"Do you still want to play Y/N\")\n",
    "    response = input()\n",
    "    if response == \"Y\" or response == \"y\":\n",
    "          start = True\n",
    "    else:\n",
    "          start = False "
   ]
  },
  {
   "cell_type": "code",
   "execution_count": null,
   "metadata": {},
   "outputs": [
    {
     "name": "stdout",
     "output_type": "stream",
     "text": [
      "Starting\n",
      "Player 1 Do you want to usgfjtjgjrtrj X or 0?\n"
     ]
    },
    {
     "name": "stdin",
     "output_type": "stream",
     "text": [
      " X\n"
     ]
    },
    {
     "name": "stdout",
     "output_type": "stream",
     "text": [
      "Player 1 Enter your position:\n"
     ]
    },
    {
     "name": "stdin",
     "output_type": "stream",
     "text": [
      " 0\n"
     ]
    },
    {
     "name": "stdout",
     "output_type": "stream",
     "text": [
      "X |   |  \n",
      "-----------\n",
      "  |   |  \n",
      "-----------\n",
      "  |   |  \n",
      "Player 2 Enter your position:\n"
     ]
    },
    {
     "name": "stdin",
     "output_type": "stream",
     "text": [
      " 6\n"
     ]
    },
    {
     "name": "stdout",
     "output_type": "stream",
     "text": [
      "X |   |  \n",
      "-----------\n",
      "  |   |  \n",
      "-----------\n",
      "0 |   |  \n",
      "Player 1 Enter your position:\n"
     ]
    },
    {
     "name": "stdin",
     "output_type": "stream",
     "text": [
      " 1\n"
     ]
    },
    {
     "name": "stdout",
     "output_type": "stream",
     "text": [
      "X | X |  \n",
      "-----------\n",
      "  |   |  \n",
      "-----------\n",
      "0 |   |  \n",
      "Player 2 Enter your position:\n"
     ]
    },
    {
     "name": "stdin",
     "output_type": "stream",
     "text": [
      " 7\n"
     ]
    },
    {
     "name": "stdout",
     "output_type": "stream",
     "text": [
      "X | X |  \n",
      "-----------\n",
      "  |   |  \n",
      "-----------\n",
      "0 | 0 |  \n",
      "Player 1 Enter your position:\n"
     ]
    },
    {
     "name": "stdin",
     "output_type": "stream",
     "text": [
      " 2\n"
     ]
    },
    {
     "name": "stdout",
     "output_type": "stream",
     "text": [
      "X | X | X\n",
      "-----------\n",
      "  |   |  \n",
      "-----------\n",
      "0 | 0 |  \n",
      "The winner of the game is Player: 1\n",
      "Do you still want to play Y/N\n"
     ]
    }
   ],
   "source": [
    "Start_Game()"
   ]
  },
  {
   "cell_type": "code",
   "execution_count": null,
   "metadata": {},
   "outputs": [],
   "source": []
  }
 ],
 "metadata": {
  "kernelspec": {
   "display_name": "Python 3",
   "language": "python",
   "name": "python3"
  },
  "language_info": {
   "codemirror_mode": {
    "name": "ipython",
    "version": 3
   },
   "file_extension": ".py",
   "mimetype": "text/x-python",
   "name": "python",
   "nbconvert_exporter": "python",
   "pygments_lexer": "ipython3",
   "version": "3.7.3"
  }
 },
 "nbformat": 4,
 "nbformat_minor": 4
}
